{
 "cells": [
  {
   "cell_type": "code",
   "execution_count": 117,
   "metadata": {},
   "outputs": [],
   "source": [
    "import matplotlib.pyplot as plt\n",
    "import numpy as np\n",
    "from scipy import optimize\n",
    "from typing import Literal, Callable\n",
    "from numpy import typing as npt\n",
    "\n",
    "from smartexp import core"
   ]
  },
  {
   "cell_type": "code",
   "execution_count": 118,
   "metadata": {},
   "outputs": [],
   "source": [
    "# Aca pongo cuales son realmente los tipos\n",
    "# No hace falta ponerle el mismo nombre pero es comodo\n",
    "from typing import Any\n",
    "\n",
    "\n",
    "from numpy import floating\n",
    "\n",
    "type ShapeT = tuple[int, ...]\n",
    "type Param = np.ndarray[tuple[Literal[5], ], np.dtype[np.float64]]\n",
    "type Control = float\n",
    "type Output = np.float64\n",
    "type Data = tuple[list[Control], list[Output]]\n",
    "\n",
    "type Model = Callable[[Control, Param], Output]\n",
    "\n",
    "P_NATURE: Param = 1. * np.asarray([1, 2, 3, 4, 5])\n",
    "DOMAIN = (-100, 100)\n",
    "\n",
    "def _nature(control: Control) -> Output:\n",
    "    \"\"\"The TRUTH about the system.\n",
    "    \"\"\"\n",
    "    return np.polynomial.Polynomial(P_NATURE, domain=DOMAIN)(control)\n",
    "\n",
    "def _measure(control: Control) -> Output:\n",
    "    \"\"\"A REAL measurement (that we simulate for the time being).\n",
    "    \"\"\"\n",
    "    NOISE_CONTROL = 0\n",
    "    NOISE_MEASURE = 0\n",
    "\n",
    "    # Sometimes the set control parameter is not properly set.\n",
    "    control = np.random.normal(control, np.abs(NOISE_CONTROL * control))\n",
    "\n",
    "    # The output of the system, given the control.\n",
    "    value = _nature(control)\n",
    "\n",
    "    # The measured values is not the output of the system\n",
    "    # but the square of it.\n",
    "    value = value ** 2\n",
    "\n",
    "    # The measured values has noise.\n",
    "    return np.random.normal(value, NOISE_MEASURE * np.abs(value))\n",
    "\n",
    "def _model(control: Control, params: Param) -> Output:\n",
    "    \"\"\"Our model of the system\n",
    "    \"\"\"\n",
    "    return np.polynomial.Polynomial(params, domain=DOMAIN)(control)\n",
    "\n",
    "def _simulate_measure(control: Control, params: Param) -> Output:\n",
    "    \"\"\"Our model of the system and the experiment.\n",
    "    \"\"\"\n",
    "    value = _model(control, params)\n",
    "    value = value ** 2\n",
    "    return value\n",
    "\n",
    "def _update(control: Control, output: Output, data: Data) -> Data:\n",
    "    data[0].append(control)\n",
    "    data[1].append(output)\n",
    "    return data\n",
    "\n",
    "def _sse(params: Param, model: Model, data: Data) -> floating[Any]:\n",
    "    c, o = data\n",
    "    delta = model(np.asarray(c), params) - np.asarray(o)\n",
    "    return np.mean(delta * delta)\n",
    "\n",
    "def _fit(model: Model, data: Data, p0: Param) -> tuple[Param, Param] | None:\n",
    "    res = optimize.minimize(_sse, x0=p0, args=(model, data, ))\n",
    "    return res.x, np.ones_like(res.x)\n",
    "\n",
    "def _suggest(model: Model, data: Data, best_params: Param, unc_params: Param) -> Control:\n",
    "    return np.random.uniform(DOMAIN[0], DOMAIN[1])\n",
    "\n",
    "\n",
    "class TSE(core.SmartExperiment[Data, Param, Control, Output]):\n",
    "\n",
    "    measure = staticmethod(_measure)\n",
    "    simulate_measure = staticmethod(_simulate_measure)\n",
    "    update = staticmethod(_update)\n",
    "    fit = staticmethod(_fit)\n",
    "    suggest = staticmethod(_suggest)\n",
    "\n",
    "    def __init__(self, p0: Param):\n",
    "        self.data = ([], [])\n",
    "        super().__init__(p0)\n",
    "\n"
   ]
  },
  {
   "cell_type": "code",
   "execution_count": 119,
   "metadata": {},
   "outputs": [
    {
     "name": "stdout",
     "output_type": "stream",
     "text": [
      "real params: [1. 2. 3. 4. 5.]\n",
      "data: ([array(2.)], [1.0841657437958399])\n",
      "starting params: [0.33867055 0.04285878 0.67968164 0.30155904 0.03184977]\n",
      "params: [1.11915245 1.66400376 1.97725602 7.24734233 2.93588505]\n"
     ]
    },
    {
     "data": {
      "image/png": "[encoded data removed]",
      "text/plain": [
       "<Figure size 640x480 with 2 Axes>"
      ]
     },
     "metadata": {},
     "output_type": "display_data"
    }
   ],
   "source": [
    "se = TSE(np.random.random(size=P_NATURE.shape))\n",
    "\n",
    "se.acquire(np.asarray(2.))\n",
    "print(f\"real params: {P_NATURE}\")\n",
    "print(f\"data: {se.data}\")\n",
    "print(f\"starting params: {se.last_best_params}\")\n",
    "\n",
    "deltas: list[float] = []\n",
    "sse: list[float] = []\n",
    "\n",
    "STEPS = np.arange(1, 100)\n",
    "\n",
    "for n in STEPS:\n",
    "    # print(f\"--- {n:03d} ---\")\n",
    "    se.step()\n",
    "    # print(f\"data: {se.data}\")\n",
    "    # print(f\"params: {se.last_best_params}\")\n",
    "    deltas.append(np.sum((se.last_best_params - P_NATURE)**2))\n",
    "    sse.append(_sse(se.last_best_params, _simulate_measure, se.data))\n",
    "\n",
    "print(f\"params: {se.last_best_params}\")\n",
    "fig, (ax1, ax2) = plt.subplots(2, 1, sharex=True)\n",
    "ax1.plot(STEPS, deltas)\n",
    "ax1.set_ylabel(\"delta param\")\n",
    "ax2.plot(STEPS, sse)\n",
    "ax2.set_ylabel(\"sse\")\n",
    "plt.show()"
   ]
  },
  {
   "cell_type": "code",
   "execution_count": 130,
   "metadata": {},
   "outputs": [
    {
     "data": {
      "text/plain": [
       "(array([1.00000127, 1.99999985, 2.99999583, 4.00000061, 5.00000271]),\n",
       " array([1., 1., 1., 1., 1.]))"
      ]
     },
     "execution_count": 130,
     "metadata": {},
     "output_type": "execute_result"
    }
   ],
   "source": [
    "_fit(_simulate_measure, se.data, np.random.random(size=P_NATURE.shape))"
   ]
  },
  {
   "cell_type": "code",
   "execution_count": null,
   "metadata": {},
   "outputs": [],
   "source": []
  }
 ],
 "metadata": {
  "kernelspec": {
   "display_name": "default",
   "language": "python",
   "name": "python3"
  },
  "language_info": {
   "codemirror_mode": {
    "name": "ipython",
    "version": 3
   },
   "file_extension": ".py",
   "mimetype": "text/x-python",
   "name": "python",
   "nbconvert_exporter": "python",
   "pygments_lexer": "ipython3",
   "version": "3.13.1"
  }
 },
 "nbformat": 4,
 "nbformat_minor": 2
}
