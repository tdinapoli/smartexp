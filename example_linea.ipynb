{
 "cells": [
  {
   "cell_type": "code",
   "execution_count": 228,
   "id": "b83f80c0",
   "metadata": {},
   "outputs": [],
   "source": [
    "from smartexp.core import SmartExperiment\n",
    "from typing import Literal, Callable, Any\n",
    "import scipy.stats as ss\n",
    "from scipy import optimize\n",
    "import numpy as np\n",
    "from numpy import floating\n",
    "import pandas as pd\n",
    "from tqdm import tqdm\n",
    "import matplotlib.pyplot as plt"
   ]
  },
  {
   "cell_type": "code",
   "execution_count": 244,
   "id": "756ad0af",
   "metadata": {},
   "outputs": [],
   "source": [
    "P_SAMPLE = [1, 1]\n",
    "DOMAIN = (0, 10)\n",
    "\n",
    "type Control = float\n",
    "type Param = np.ndarray[tuple[Literal[2],], np.dtype[np.float64]]\n",
    "type Output = np.float64\n",
    "type Data = tuple[list[Control], list[Output]]\n",
    "\n",
    "type Model = Callable[[Control, Param], Output]\n",
    "\n",
    "\n",
    "def _nature(control: Control) -> Output:\n",
    "    return np.polynomial.Polynomial(P_SAMPLE, domain=DOMAIN)(control)\n",
    "\n",
    "\n",
    "def _measure(control: Control) -> Output:\n",
    "    NOISE_CONTROL = 0\n",
    "    NOISE_MEASURE = .2\n",
    "\n",
    "    control = np.random.normal(control, np.abs(NOISE_CONTROL * control))\n",
    "\n",
    "    value = _nature(control)\n",
    "\n",
    "    return np.random.normal(value, NOISE_MEASURE)\n",
    "\n",
    "\n",
    "def _model(control: Control, params: Param) -> Output:\n",
    "    NOISE_MODEL = .2\n",
    "    y = np.polynomial.Polynomial(params)(control)\n",
    "    return np.random.normal(y, NOISE_MODEL)\n",
    "\n",
    "\n",
    "def _simulate_measure(control: Control, params: Param):\n",
    "    return _model(control, params)\n",
    "\n",
    "\n",
    "def _update(control: Control, output: Output, data: Data) -> Data:\n",
    "    data[0].append(control)\n",
    "    data[1].append(output)\n",
    "    return data\n",
    "\n",
    "def _sse(params: Param, model: Model, data: Data) -> floating[Any]:\n",
    "    c, o = data\n",
    "    delta = model(np.asarray(c), params) - np.asarray(o)\n",
    "    return np.mean(delta * delta)\n",
    "\n",
    "def _fit(model: Model, data: Data, p0: Param) -> tuple[Param, Param] | None:\n",
    "    res = optimize.minimize(\n",
    "        _sse,\n",
    "        x0=p0,\n",
    "        args=(\n",
    "            model,\n",
    "            data,\n",
    "        ),\n",
    "    )\n",
    "    return res.x\n",
    "\n",
    "\n",
    "def _fit_stsq(model: Model, data: Data, p0: Param) -> tuple[Param, Param] | None:\n",
    "    data = np.array([*data])\n",
    "    A = np.vstack([data[0, :], np.ones_like(data[0, :])]).T\n",
    "    y = data[1, :]\n",
    "    res = np.linalg.lstsq(A, y)[0]\n",
    "    return res\n",
    "\n",
    "suggester_data = {}\n",
    "# suggest should be less strict. It doesn't need the best params or unc params\n",
    "def _suggest(\n",
    "    model: Model,\n",
    "    data: Data,\n",
    "    fit = _fit,\n",
    "    params: np.ndarray[Param] | None = None,\n",
    "    controls: np.ndarray[Control] = np.arange(DOMAIN[0], DOMAIN[1] + 1.0, 1.0),\n",
    "    reps: int = 100,\n",
    ") -> Control:\n",
    "\n",
    "    if params is None:\n",
    "        ms = np.arange(1, 2, 5.0)\n",
    "        bs = np.linspace(1, 1, 1)\n",
    "        Ms, Bs = np.meshgrid(ms, bs)\n",
    "        params = np.column_stack((Ms.ravel(), Bs.ravel()))\n",
    "    \n",
    "    volumes = []\n",
    "    for param in tqdm(params):\n",
    "        for control in controls:\n",
    "            suggester_data[(*param, control)] = []\n",
    "            for rep in range(reps):\n",
    "                tmpdata = data\n",
    "                y = model(control, param)\n",
    "                tmpdata[0].append(control)\n",
    "                tmpdata[1].append(y)\n",
    "                m, b = fit(model, tmpdata, param)\n",
    "                suggester_data[(*param, control)].append((m, b))\n",
    "            volume_data = np.array([*suggester_data[(*param, control)]])\n",
    "            volume = volume_data[:, 0].std()# + volume_data[:, 1].std()\n",
    "            volumes.append({\n",
    "                \"control\" : control,\n",
    "                \"params\"  : params,\n",
    "                \"reps\"    : reps,\n",
    "                \"volume\"  : volume,\n",
    "            })\n",
    "    df = pd.DataFrame.from_records(volumes)\n",
    "    return df[df.volume == df.volume.min()].reset_index().iloc[0, 0]\n",
    "\n",
    "\n",
    "class LinearExperiment(SmartExperiment):\n",
    "    measure = staticmethod(_measure)\n",
    "    simulate_measure = staticmethod(_simulate_measure)\n",
    "    update = staticmethod(_update)\n",
    "    fit = staticmethod(_fit)\n",
    "    suggest = staticmethod(_suggest)\n",
    "\n",
    "    def __init__(self, p0: Param):\n",
    "        self.data = ([1.0], [2.0])\n",
    "        super().__init__(p0)\n"
   ]
  },
  {
   "cell_type": "code",
   "execution_count": 245,
   "id": "3fba979c",
   "metadata": {},
   "outputs": [
    {
     "name": "stderr",
     "output_type": "stream",
     "text": [
      "100%|██████████| 1/1 [00:11<00:00, 11.48s/it]\n"
     ]
    },
    {
     "data": {
      "text/plain": [
       "np.int64(3)"
      ]
     },
     "execution_count": 245,
     "metadata": {},
     "output_type": "execute_result"
    }
   ],
   "source": [
    "li = LinearExperiment(p0 = [0, 0])\n",
    "li.suggest(li.simulate_measure, li.data, params=[[1, 1]])"
   ]
  },
  {
   "cell_type": "code",
   "execution_count": null,
   "id": "a8a5f526",
   "metadata": {},
   "outputs": [],
   "source": [
    "for key, val in suggester_data.items():\n",
    "    arr = np.array([*val])\n",
    "    fig, (ax0, ax1) = plt.subplots(1, 2)\n",
    "    ax0.hist(arr[:, 0])\n",
    "    ax1.hist(arr[:, 1])\n",
    "    ax0.set_title(f\"m={key[0]}, b={key[1]}, x={key[2]}  \\\n",
    "                  \\nmstd={np.std(arr[:, 0])}, bstd={np.std(arr[:, 1])}\")\n",
    "    plt.show()"
   ]
  },
  {
   "cell_type": "code",
   "execution_count": 232,
   "id": "8b1069a2",
   "metadata": {},
   "outputs": [],
   "source": [
    "controls1 = np.linspace(0, 2, 10)\n",
    "controls2 = np.linspace(2, 10, 10)\n",
    "controls = np.concat([controls1, controls2])\n",
    "reps = 1000\n",
    "\n",
    "results = []\n",
    "for control in controls:\n",
    "    for rep in range(reps):\n",
    "        data = ([1.0], [2.0])\n",
    "        y = _simulate_measure(control, P_SAMPLE)\n",
    "        data[0].append(control)\n",
    "        data[1].append(y)\n",
    "\n",
    "        m, b = _fit_stsq(_model, data, p0=[0, 0])\n",
    "        #plt.scatter(x=data[0], y=data[1], color=\"C0\", alpha=0.1)\n",
    "        results.append({\"control\": control, \"m\" : m, \"b\" : b})\n",
    "        #plt.plot(data[0], m * np.array(data[0]) + b, '-k', alpha=0.1)\n",
    "    #plt.show()\n",
    "\n",
    "df = pd.DataFrame.from_records(results)"
   ]
  },
  {
   "cell_type": "code",
   "execution_count": 233,
   "id": "a3d31f03",
   "metadata": {},
   "outputs": [
    {
     "data": {
      "image/png": "[encoded data removed]",
      "text/plain": [
       "<Figure size 640x480 with 1 Axes>"
      ]
     },
     "metadata": {},
     "output_type": "display_data"
    }
   ],
   "source": [
    "%matplotlib inline\n",
    "\n",
    "controls = df.control.unique()\n",
    "mstds = []\n",
    "bstds = []\n",
    "#fig, (ax0, ax1) = plt.subplots(1, 2)\n",
    "for i, control in enumerate(controls):\n",
    "    tmpdf = df[df.control == control]\n",
    "#    ax0.hist(tmpdf.m, density=True, color=f\"C{i}\", alpha=0.2, label=f\"x={control}\")\n",
    "#    ax1.hist(tmpdf.b, density=True, color=f\"C{i}\", alpha=0.2, label=f\"x={control}\")\n",
    "#    ax0.set_title(f\"m={np.std(tmpdf.m)}\")\n",
    "#    ax1.set_title(f\"b={np.std(tmpdf.b)}\")\n",
    "\n",
    "    mstds.append(tmpdf.m.std())\n",
    "    bstds.append(tmpdf.b.std())\n",
    "\n",
    "#ax0.set_xlim([0.6, 1.4])\n",
    "#ax1.set_xlim([0.6, 1.4])\n",
    "#ax0.legend()\n",
    "#plt.show()\n",
    "\n",
    "plt.figure()\n",
    "plt.plot(controls, mstds)\n",
    "plt.show()"
   ]
  },
  {
   "cell_type": "code",
   "execution_count": null,
   "id": "bff3addc",
   "metadata": {},
   "outputs": [],
   "source": []
  }
 ],
 "metadata": {
  "kernelspec": {
   "display_name": "default",
   "language": "python",
   "name": "python3"
  },
  "language_info": {
   "codemirror_mode": {
    "name": "ipython",
    "version": 3
   },
   "file_extension": ".py",
   "mimetype": "text/x-python",
   "name": "python",
   "nbconvert_exporter": "python",
   "pygments_lexer": "ipython3",
   "version": "3.13.1"
  }
 },
 "nbformat": 4,
 "nbformat_minor": 5
}
